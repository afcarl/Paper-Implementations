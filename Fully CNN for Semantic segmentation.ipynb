{
 "cells": [
  {
   "cell_type": "code",
   "execution_count": 1,
   "metadata": {
    "collapsed": true
   },
   "outputs": [],
   "source": [
    "import numpy as np\n",
    "import torch\n",
    "from torch.autograd import Variable\n",
    "import torch.optim as optim\n",
    "import matplotlib.pyplot as plt\n",
    "import torchvision\n",
    "import torch.nn as nn\n",
    "from torch.optim import lr_scheduler\n",
    "from torchvision import datasets, transforms, models\n",
    "import torch.nn.functional as F\n",
    "from torch.optim import lr_scheduler\n",
    "import timeit\n",
    "import time\n",
    "from skimage import io, transform\n",
    "from torch.utils.data import Dataset, DataLoader\n",
    "import os\n",
    "from __future__ import division, print_function\n",
    "import shutil\n",
    "%matplotlib inline\n",
    "import glob\n",
    "import torchvision.transforms as T\n",
    "from torchvision import utils\n",
    "import scipy.misc as m\n",
    "from tqdm import tqdm"
   ]
  },
  {
   "cell_type": "code",
   "execution_count": 2,
   "metadata": {
    "collapsed": true
   },
   "outputs": [],
   "source": [
    "# The model FCNS 32\n",
    "class fcns32(nn.Module):\n",
    "    \n",
    "    \n",
    "    def __init__(self, n_classes =21, learn_bilinear=False):\n",
    "        super(fcns32, self).__init__()\n",
    "        self.learn_bilinear = learn_bilinear\n",
    "        self.n_classes = n_classes\n",
    "        \n",
    "        # Creating the convolutional blocks\n",
    "        self.conv1block = nn.Sequential(\n",
    "                            nn.Conv2d(3, 64, 3, padding=100),\n",
    "                            nn.ReLU(inplace=True),\n",
    "                            nn.Conv2d(64, 64, 3, padding=1),\n",
    "                            nn.ReLU(),\n",
    "                            nn.MaxPool2d(2, stride=2, ceil_mode=True),\n",
    "                            )\n",
    "        self.conv2block = nn.Sequential(\n",
    "                            nn.Conv2d(64, 128, 3, padding=1),\n",
    "                            nn.ReLU(inplace=True),\n",
    "                            nn.Conv2d(128, 128, 3, padding=1),\n",
    "                            nn.ReLU(inplace=True),\n",
    "                            nn.MaxPool2d(2, stride=2, ceil_mode=True),)\n",
    "        self.conv3block = nn.Sequential(\n",
    "                            nn.Conv2d(128, 256, 3, padding=1),\n",
    "                            nn.ReLU(inplace=True),\n",
    "                            nn.Conv2d(256,256,3, padding=1),\n",
    "                            nn.ReLU(inplace=True),\n",
    "                            nn.Conv2d(256,256,3, padding=1),\n",
    "                            nn.ReLU(inplace=True),\n",
    "                            nn.MaxPool2d(2, stride=2, ceil_mode=True),\n",
    "                            )\n",
    "        self.conv4block = nn.Sequential(\n",
    "                            nn.Conv2d(256, 512, 3, padding=1),\n",
    "                            nn.ReLU(inplace=True),\n",
    "                            nn.Conv2d(512,512,3, padding=1),\n",
    "                            nn.ReLU(inplace=True),\n",
    "                            nn.Conv2d(512,512,3, padding=1),\n",
    "                            nn.ReLU(inplace=True),\n",
    "                            nn.MaxPool2d(2, stride=2, ceil_mode=True),\n",
    "                            )\n",
    "        self.conv5block = nn.Sequential(\n",
    "                            nn.Conv2d(512, 512, 3, padding=1),\n",
    "                            nn.ReLU(inplace=True),\n",
    "                            nn.Conv2d(512,512,3, padding=1),\n",
    "                            nn.ReLU(inplace=True),\n",
    "                            nn.Conv2d(512,512,3, padding=1),\n",
    "                            nn.ReLU(inplace=True),\n",
    "                            nn.MaxPool2d(2, stride=2, ceil_mode=True),\n",
    "                            )\n",
    "        \n",
    "        self.classifier = nn.Sequential(\n",
    "                            nn.Conv2d(512, 4096, 7),\n",
    "                            nn.ReLU(inplace=True),\n",
    "                            nn.Dropout2d(),\n",
    "                            nn.Conv2d(4096, 4096, 1),\n",
    "                            nn.ReLU(inplace=True),\n",
    "                            nn.Dropout2d(),\n",
    "                            nn.Conv2d(4096, n_classes, 1),\n",
    "                            )\n",
    "        \n",
    "    \n",
    "    # The forward pass\n",
    "    def forward(self, x):\n",
    "        conv1 = self.conv1block(x)\n",
    "        conv2 = self.conv2block(conv1)\n",
    "        conv3 = self.conv3block(conv2)\n",
    "        conv4 = self.conv4block(conv3)\n",
    "        conv5 = self.conv5block(conv4)\n",
    "        \n",
    "        output = self.classifier(conv5)\n",
    "        \n",
    "        out = F.upsample(output, x.size()[2:])\n",
    "        \n",
    "        return out\n",
    "    \n",
    "    #Using the pretrained network\n",
    "    def init_vgg16_params(self, vgg16, copy_fc8=True):\n",
    "        blocks = [self.conv1block,\n",
    "                 self.conv2block,\n",
    "                 self.conv3block,\n",
    "                 self.conv4block,\n",
    "                 self.conv5block]\n",
    "        \n",
    "        ranges = [[0,4], [5,9], [10, 16], [17, 23], [24, 29]]\n",
    "        features = list(vgg16.features.children())\n",
    "        print(features)\n",
    "        \n",
    "        for i, conv in enumerate(blocks):\n",
    "            for l1, l2 in zip(features[ranges[i][0]:ranges[i][1]], conv):\n",
    "                if isinstance(l1, nn.Conv2d) and isinstance(l2, nn.Conv2d):\n",
    "                    print(l1.weight.size(), i)\n",
    "                    print(l2.weight.size(), i)\n",
    "                    assert l1.weight.size() == l2.weight.size()\n",
    "                    assert l1.bias.size() == l2.bias.size()\n",
    "                    l2.weight.data = l1.weight.data\n",
    "                    l2.bias.data = l1.bias.data\n",
    "        \n",
    "        for i1, i2 in zip([0,3], [0,3]):\n",
    "            l1 = vgg16.classifier[i1]\n",
    "            l2 = self.classifier[i2]\n",
    "            l2.weight.data = l1.weight.data.view(l2.weight.size())\n",
    "            l2.bias.data = l1.bias.data.view(l2.bias.size())\n",
    "            \n",
    "        n_class = self.classifier[6].weight.size()[0]\n",
    "        \n",
    "        if copy_fc8:\n",
    "            l1 = vgg16.classifier[6]\n",
    "            l2 = self.classifier[6]\n",
    "            l2.weight.data = l1.weight.data[:n_class, :].view(l2.weight.size())\n",
    "            l2.bias.data = l1.bias.data[:n_class]"
   ]
  },
  {
   "cell_type": "code",
   "execution_count": 3,
   "metadata": {
    "collapsed": true
   },
   "outputs": [],
   "source": [
    "def train_model(model, optimizer, criterion, scheduler, num_epochs=25):\n",
    "    since = time.time()\n",
    "    for epoch in range(num_epochs):\n",
    "        print('Epoch {}/{}'.format(epoch, num_epochs - 1))\n",
    "        print('-' * 10)\n",
    "                \n",
    "        running_loss = 0.0\n",
    "        running_corrects = 0\n",
    "            \n",
    "        for data in dataloader:\n",
    "            inputs, labels = data['image'], data['target']\n",
    "            inputs, labels =  Variable(inputs), Variable(labels)\n",
    "                \n",
    "            # Zero the parameter gradients\n",
    "            optimizer.zero_grad()\n",
    "                \n",
    "            #Forward Pass\n",
    "            output = model(inputs)\n",
    "            loss = criterion(output, labels)\n",
    "            loss.backward()\n",
    "            optimizer.step()\n",
    "            scheduler.step()\n",
    "            \n",
    "            running_loss += loss.data[0]\n",
    "        \n",
    "        epoch_loss = running_loss / len(train_images)\n",
    "        \n",
    "        print('Loss: {:.4f}'.format(epoch_loss))\n",
    "\n",
    "    return model"
   ]
  },
  {
   "cell_type": "code",
   "execution_count": 5,
   "metadata": {
    "collapsed": false
   },
   "outputs": [
    {
     "name": "stdout",
     "output_type": "stream",
     "text": [
      "[Conv2d(3, 64, kernel_size=(3, 3), stride=(1, 1), padding=(1, 1)), ReLU (inplace), Conv2d(64, 64, kernel_size=(3, 3), stride=(1, 1), padding=(1, 1)), ReLU (inplace), MaxPool2d (size=(2, 2), stride=(2, 2), dilation=(1, 1)), Conv2d(64, 128, kernel_size=(3, 3), stride=(1, 1), padding=(1, 1)), ReLU (inplace), Conv2d(128, 128, kernel_size=(3, 3), stride=(1, 1), padding=(1, 1)), ReLU (inplace), MaxPool2d (size=(2, 2), stride=(2, 2), dilation=(1, 1)), Conv2d(128, 256, kernel_size=(3, 3), stride=(1, 1), padding=(1, 1)), ReLU (inplace), Conv2d(256, 256, kernel_size=(3, 3), stride=(1, 1), padding=(1, 1)), ReLU (inplace), Conv2d(256, 256, kernel_size=(3, 3), stride=(1, 1), padding=(1, 1)), ReLU (inplace), MaxPool2d (size=(2, 2), stride=(2, 2), dilation=(1, 1)), Conv2d(256, 512, kernel_size=(3, 3), stride=(1, 1), padding=(1, 1)), ReLU (inplace), Conv2d(512, 512, kernel_size=(3, 3), stride=(1, 1), padding=(1, 1)), ReLU (inplace), Conv2d(512, 512, kernel_size=(3, 3), stride=(1, 1), padding=(1, 1)), ReLU (inplace), MaxPool2d (size=(2, 2), stride=(2, 2), dilation=(1, 1)), Conv2d(512, 512, kernel_size=(3, 3), stride=(1, 1), padding=(1, 1)), ReLU (inplace), Conv2d(512, 512, kernel_size=(3, 3), stride=(1, 1), padding=(1, 1)), ReLU (inplace), Conv2d(512, 512, kernel_size=(3, 3), stride=(1, 1), padding=(1, 1)), ReLU (inplace), MaxPool2d (size=(2, 2), stride=(2, 2), dilation=(1, 1))]\n",
      "torch.Size([64, 3, 3, 3]) 0\n",
      "torch.Size([64, 3, 3, 3]) 0\n",
      "torch.Size([64, 64, 3, 3]) 0\n",
      "torch.Size([64, 64, 3, 3]) 0\n",
      "torch.Size([128, 64, 3, 3]) 1\n",
      "torch.Size([128, 64, 3, 3]) 1\n",
      "torch.Size([128, 128, 3, 3]) 1\n",
      "torch.Size([128, 128, 3, 3]) 1\n",
      "torch.Size([256, 128, 3, 3]) 2\n",
      "torch.Size([256, 128, 3, 3]) 2\n",
      "torch.Size([256, 256, 3, 3]) 2\n",
      "torch.Size([256, 256, 3, 3]) 2\n",
      "torch.Size([256, 256, 3, 3]) 2\n",
      "torch.Size([256, 256, 3, 3]) 2\n",
      "torch.Size([512, 256, 3, 3]) 3\n",
      "torch.Size([512, 256, 3, 3]) 3\n",
      "torch.Size([512, 512, 3, 3]) 3\n",
      "torch.Size([512, 512, 3, 3]) 3\n",
      "torch.Size([512, 512, 3, 3]) 3\n",
      "torch.Size([512, 512, 3, 3]) 3\n",
      "torch.Size([512, 512, 3, 3]) 4\n",
      "torch.Size([512, 512, 3, 3]) 4\n",
      "torch.Size([512, 512, 3, 3]) 4\n",
      "torch.Size([512, 512, 3, 3]) 4\n",
      "torch.Size([512, 512, 3, 3]) 4\n",
      "torch.Size([512, 512, 3, 3]) 4\n"
     ]
    }
   ],
   "source": [
    "model = fcns32()\n",
    "vgg16 = models.vgg16(pretrained=True)\n",
    "model.init_vgg16_params(vgg16)\n",
    "criterion = nn.NLLLoss2d()\n",
    "optimizer = optim.Adam(model.parameters(), lr = 0.1)\n",
    "lr_scheduler = optim.lr_scheduler.StepLR(optimizer, step_size=0.7, gamma=0.1)"
   ]
  },
  {
   "cell_type": "code",
   "execution_count": 6,
   "metadata": {
    "collapsed": false
   },
   "outputs": [],
   "source": [
    "# Data collection for training set\n",
    "\n",
    "trainText = '/Users/navneetmkumar/Documents/Paper Implementations/VOC2012/ImageSets/Segmentation/train.txt'\n",
    "\n",
    "def getTrainNames(filename):\n",
    "    segment_images = []\n",
    "    f = open(filename)\n",
    "    filecontents = f.readlines()\n",
    "    for line in filecontents:\n",
    "        img_name = line.strip('\\n')\n",
    "        segment_images.append(img_name)\n",
    "    return segment_images"
   ]
  },
  {
   "cell_type": "code",
   "execution_count": 7,
   "metadata": {
    "collapsed": false
   },
   "outputs": [
    {
     "name": "stdout",
     "output_type": "stream",
     "text": [
      "1464\n"
     ]
    }
   ],
   "source": [
    "train_images = getTrainNames(trainText)\n",
    "print(len(train_images))"
   ]
  },
  {
   "cell_type": "code",
   "execution_count": 8,
   "metadata": {
    "collapsed": false
   },
   "outputs": [],
   "source": [
    "if not os.path.exists('/Users/navneetmkumar/Documents/Paper Implementations/train-inputs'):\n",
    "    os.makedirs('/Users/navneetmkumar/Documents/Paper Implementations/train-inputs')\n",
    "\n",
    "if not os.path.exists('/Users/navneetmkumar/Documents/Paper Implementations/train-targets'):\n",
    "    os.makedirs('/Users/navneetmkumar/Documents/Paper Implementations/train-targets')\n",
    "\n",
    "image_dir = '/Users/navneetmkumar/Documents/Paper Implementations/VOC2012/JPEGImages'\n",
    "targets_dir = '/Users/navneetmkumar/Documents/Paper Implementations/VOC2012/SegmentationClass'\n",
    "\n",
    "def copyFiles(directory, targets=False):\n",
    "    for f in os.listdir(directory):\n",
    "        f_name = os.path.basename(f)\n",
    "        f_name = f_name.split(\".\")[0]\n",
    "        if f_name in train_images:\n",
    "            f = os.path.join(directory, f)\n",
    "            if targets:\n",
    "                shutil.copy2(f, '/Users/navneetmkumar/Documents/Paper Implementations/train-targets/')\n",
    "            else:\n",
    "                shutil.copy2(f, '/Users/navneetmkumar/Documents/Paper Implementations/train-inputs/')"
   ]
  },
  {
   "cell_type": "code",
   "execution_count": 9,
   "metadata": {
    "collapsed": true
   },
   "outputs": [],
   "source": [
    "copyFiles(image_dir)"
   ]
  },
  {
   "cell_type": "code",
   "execution_count": 10,
   "metadata": {
    "collapsed": false
   },
   "outputs": [],
   "source": [
    "copyFiles(targets_dir, targets=True)"
   ]
  },
  {
   "cell_type": "code",
   "execution_count": 11,
   "metadata": {
    "collapsed": false
   },
   "outputs": [
    {
     "name": "stdout",
     "output_type": "stream",
     "text": [
      "1449\n"
     ]
    }
   ],
   "source": [
    "# Setting up the validation set\n",
    "valText = '/Users/navneetmkumar/Documents/Paper Implementations/VOC2012/ImageSets/Segmentation/val.txt'\n",
    "val_images = getTrainNames(valText)\n",
    "print(len(val_images))"
   ]
  },
  {
   "cell_type": "code",
   "execution_count": 12,
   "metadata": {
    "collapsed": true
   },
   "outputs": [],
   "source": [
    "if not os.path.exists('/Users/navneetmkumar/Documents/Paper Implementations/val-inputs'):\n",
    "    os.makedirs('/Users/navneetmkumar/Documents/Paper Implementations/val-inputs')\n",
    "\n",
    "if not os.path.exists('/Users/navneetmkumar/Documents/Paper Implementations/val-targets'):\n",
    "    os.makedirs('/Users/navneetmkumar/Documents/Paper Implementations/val-targets')\n",
    "\n",
    "image_dir = '/Users/navneetmkumar/Documents/Paper Implementations/VOC2012/JPEGImages'\n",
    "targets_dir = '/Users/navneetmkumar/Documents/Paper Implementations/VOC2012/SegmentationClass'\n",
    "\n",
    "def copyFiles(directory, targets=False):\n",
    "    for f in os.listdir(directory):\n",
    "        f_name = os.path.basename(f)\n",
    "        f_name = f_name.split(\".\")[0]\n",
    "        if f_name in val_images:\n",
    "            f = os.path.join(directory, f)\n",
    "            if targets:\n",
    "                shutil.copy2(f, '/Users/navneetmkumar/Documents/Paper Implementations/val-targets/')\n",
    "            else:\n",
    "                shutil.copy2(f, '/Users/navneetmkumar/Documents/Paper Implementations/val-inputs/')"
   ]
  },
  {
   "cell_type": "code",
   "execution_count": 13,
   "metadata": {
    "collapsed": true
   },
   "outputs": [],
   "source": [
    "copyFiles(image_dir)"
   ]
  },
  {
   "cell_type": "code",
   "execution_count": 14,
   "metadata": {
    "collapsed": true
   },
   "outputs": [],
   "source": [
    "copyFiles(targets_dir, targets=True)"
   ]
  },
  {
   "cell_type": "code",
   "execution_count": 15,
   "metadata": {
    "collapsed": false
   },
   "outputs": [],
   "source": [
    "# Display the validation images\n",
    "val_im_dir = '/Users/navneetmkumar/Documents/Paper Implementations/val-inputs'\n",
    "val_t_dir = '/Users/navneetmkumar/Documents/Paper Implementations/val-targets'\n",
    "\n",
    "val_im_list = glob.glob(os.path.join(val_im_dir, '*.jpg'))\n",
    "val_t_list = glob.glob(os.path.join(val_t_dir, '*.png'))\n",
    "\n",
    "def showImage(image, dire):\n",
    "    f = os.path.join(dire, image)\n",
    "    plt.imshow(io.imread(f))"
   ]
  },
  {
   "cell_type": "code",
   "execution_count": 16,
   "metadata": {
    "collapsed": true
   },
   "outputs": [],
   "source": [
    "# Converting the training set into tensors\n",
    "class ToTensor(object):\n",
    "    # Convert ndarrays in sample to Tensors\n",
    "    \n",
    "    def __call__(self, sample):\n",
    "        image, target = sample['image'], sample['target']\n",
    "        # swap color axis because\n",
    "        # numpy image: H x W x C\n",
    "        # torch image: C X H X W\n",
    "        image = image.transpose((2,0,1))\n",
    "        target = target.transpose((2,0,1))\n",
    "        return {'image': torch.from_numpy(image),\n",
    "                'target': torch.from_numpy(target)}"
   ]
  },
  {
   "cell_type": "code",
   "execution_count": 7,
   "metadata": {
    "collapsed": false
   },
   "outputs": [],
   "source": [
    "class PascalVOCDataset(Dataset):\n",
    "    def __init__(self, train_images_dir, train_targets_dir, img_size=512, is_transform=None):\n",
    "        self.train_images_dir =  train_images_dir\n",
    "        self.train_targets_dir = train_targets_dir\n",
    "        self.is_transform = is_transform\n",
    "        self.mean = np.array([104.00699, 116.66877, 122.67892])\n",
    "        self.n_classes = 21\n",
    "        self.img_size = img_size if isinstance(img_size, tuple) else (img_size, img_size)\n",
    "        \n",
    "        if not os.path.isdir('/Users/navneetmkumar/Documents/Paper Implementations/VOC2012/SegmentationClass/pre_encoded'):\n",
    "            self.setup(pre_encode=True)\n",
    "        else:\n",
    "            self.setup(pre_encode=False)\n",
    "        self.pre_encoded = '/Users/navneetmkumar/Documents/Paper Implementations/VOC2012/SegmentationClass/pre_encoded'\n",
    "        \n",
    "    def __len__(self):\n",
    "        train_images = sorted(glob.glob(os.path.join(self.train_images_dir, '*.jpg')))\n",
    "        return len(train_images)\n",
    "    \n",
    "    def __getitem__(self, i):\n",
    "        train_im_list = sorted(glob.glob(os.path.join(self.train_images_dir, '*.jpg')))\n",
    "        train_t_pre_list = sorted(glob.glob(os.path.join(self.pre_encoded, '*.png')))\n",
    "        f1 = train_im_list[i]\n",
    "        f2 = train_t_pre_list[i]\n",
    "        image = m.imread(f1)\n",
    "        image= np.array(image, dtype=np.uint8)\n",
    "        target = m.imread(f2)\n",
    "        target = np.array(target, dtype=np.int32)\n",
    "        sample = {'image': image, 'target': target}\n",
    "        if self.is_transform:\n",
    "            sample = self.transform(sample)\n",
    "        return sample\n",
    "    \n",
    "    def transform(self, sample):\n",
    "        img = sample['image']\n",
    "        lbl = sample['target']\n",
    "        img = img[:, :, ::-1]\n",
    "        img = img.astype(np.float64)\n",
    "        img -= self.mean\n",
    "        img = m.imresize(img, (self.img_size[0], self.img_size[1]))\n",
    "        # Resize scales images from 0 to 255, thus we need\n",
    "        # to divide by 255.0\n",
    "        img = img.astype(float) / 255.0\n",
    "        # NHWC -> NCWH\n",
    "        img = img.transpose(2, 0, 1)\n",
    "        \n",
    "        lbl[lbl==255] = 0\n",
    "        lbl = lbl.astype(float)\n",
    "        lbl = m.imresize(lbl, (self.img_size[0], self.img_size[1]), 'nearest', mode='F')\n",
    "        lbl = lbl.astype(int)\n",
    "        \n",
    "        img = torch.from_numpy(img).float()\n",
    "        lbl = torch.from_numpy(lbl).long()\n",
    "        \n",
    "        sample  = {'image': img, 'target': lbl}\n",
    "        return sample\n",
    "    \n",
    "    \n",
    "    # Define the 21 classes of color represeneted in pascal voc\n",
    "    def get_pascal_labels(self):\n",
    "        return np.asarray([[0,0,0], [128,0,0], [0,128,0], [128,128,0], [0,0,128], [128,0,128],\n",
    "                              [0,128,128], [128,128,128], [64,0,0], [192,0,0], [64,128,0], [192,128,0],\n",
    "                              [64,0,128], [192,0,128], [64,128,128], [192,128,128], [0, 64,0], [128, 64, 0],\n",
    "                              [0,192,0], [128,192,0], [0,64,128]])\n",
    "        \n",
    "    \n",
    "    # Encoding the target ( since the loss function will only take a long tensor)\n",
    "    def encode_segmap(self, mask):\n",
    "        mask = mask.astype(int)\n",
    "        label_mask = np.zeros((mask.shape[0], mask.shape[1]), dtype=np.int16)\n",
    "        for i, label in enumerate(self.get_pascal_labels()):\n",
    "            label_mask[np.where(np.all(mask == label, axis=-1))[:2]] = i\n",
    "        label_mask = label_mask.astype(int)\n",
    "        return label_mask\n",
    "    \n",
    "    def decode_segmap(self, temp, plot=False):\n",
    "        label_colours = self.get_pascal_labels()\n",
    "        r = temp.copy()\n",
    "        g = temp.copy()\n",
    "        b = temp.copy()\n",
    "        for l in range(0, self.n_classes):\n",
    "            r[temp == l] = label_colours[l, 0]\n",
    "            g[temp == l] = label_colours[l, 1]\n",
    "            b[temp == l] = label_colours[l, 2]\n",
    "\n",
    "        rgb = np.zeros((temp.shape[0], temp.shape[1], 3))\n",
    "        rgb[:, :, 0] = r\n",
    "        rgb[:, :, 1] = g\n",
    "        rgb[:, :, 2] = b\n",
    "        if plot:\n",
    "            plt.imshow(rgb)\n",
    "            plt.show()\n",
    "        else:\n",
    "            return rgb\n",
    "\n",
    "    def setup(self, pre_encode=False):\n",
    "        \n",
    "        train_t_list = sorted(glob.glob(os.path.join(self.train_targets_dir, '*.png')))\n",
    "\n",
    "        target_path = '/Users/navneetmkumar/Documents/Paper Implementations/VOC2012/SegmentationClass/pre_encoded/'\n",
    "        if not os.path.exists(target_path):\n",
    "            os.makedirs(target_path)\n",
    "\n",
    "        if pre_encode:\n",
    "            print(\"Pre-encoding segmentation masks...\")\n",
    "\n",
    "            for i in tqdm(range(len(train_t_list))): \n",
    "                lbl = self.encode_segmap(m.imread(train_t_list[i]))\n",
    "                lbl = m.toimage(lbl, high=lbl.max(), low=lbl.min())\n",
    "                m.imsave(target_path + str(i) + '.png', lbl)    "
   ]
  },
  {
   "cell_type": "code",
   "execution_count": 8,
   "metadata": {
    "collapsed": false
   },
   "outputs": [],
   "source": [
    "train_images_dir ='/Users/navneetmkumar/Documents/Paper Implementations/train-inputs'\n",
    "train_targets_dir = '/Users/navneetmkumar/Documents/Paper Implementations/train-targets'\n",
    "data = PascalVOCDataset(train_images_dir, train_targets_dir, is_transform=True)"
   ]
  },
  {
   "cell_type": "code",
   "execution_count": 9,
   "metadata": {
    "collapsed": true
   },
   "outputs": [],
   "source": [
    "# Instead of using a simple for loop we will be using the torch.utils.DataLoader\n",
    "# It provides the following features:\n",
    "# 1.Batching the data\n",
    "# 2.Shuffling the data\n",
    "# 3.Load data in parallel using multiprocessing workers\n",
    "\n",
    "dataloader = DataLoader(data, batch_size=128, shuffle=True, num_workers=4)"
   ]
  },
  {
   "cell_type": "code",
   "execution_count": 81,
   "metadata": {
    "collapsed": false
   },
   "outputs": [
    {
     "data": {
      "image/png": "[encoded data removed]",
      "text/plain": [
       "<matplotlib.figure.Figure at 0x1114f86a0>"
      ]
     },
     "metadata": {},
     "output_type": "display_data"
    },
    {
     "data": {
      "image/png": "[encoded data removed]",
      "text/plain": [
       "<matplotlib.figure.Figure at 0x11e2ea860>"
      ]
     },
     "metadata": {},
     "output_type": "display_data"
    }
   ],
   "source": [
    "for i_batch, sample_batched in enumerate(dataloader):\n",
    "    imgs, labels = sample_batched['image'], sample_batched['target']\n",
    "    if i_batch == 0:\n",
    "            img = torchvision.utils.make_grid(imgs).numpy()\n",
    "            img = np.transpose(img, (1, 2, 0))\n",
    "            img = img[:, :, ::-1]\n",
    "            plt.imshow(img)\n",
    "            plt.show()\n",
    "            plt.imshow(data.decode_segmap(labels.numpy()[i_batch+1]))\n",
    "            plt.show()"
   ]
  },
  {
   "cell_type": "code",
   "execution_count": null,
   "metadata": {
    "collapsed": false
   },
   "outputs": [
    {
     "name": "stdout",
     "output_type": "stream",
     "text": [
      "Epoch 0/24\n",
      "----------\n"
     ]
    }
   ],
   "source": [
    "model = train_model(model, optimizer, criterion, lr_scheduler)"
   ]
  },
  {
   "cell_type": "code",
   "execution_count": null,
   "metadata": {
    "collapsed": true
   },
   "outputs": [],
   "source": []
  }
 ],
 "metadata": {
  "kernelspec": {
   "display_name": "Python 3",
   "language": "python",
   "name": "python3"
  },
  "language_info": {
   "codemirror_mode": {
    "name": "ipython",
    "version": 3
   },
   "file_extension": ".py",
   "mimetype": "text/x-python",
   "name": "python",
   "nbconvert_exporter": "python",
   "pygments_lexer": "ipython3",
   "version": "3.5.3"
  }
 },
 "nbformat": 4,
 "nbformat_minor": 0
}
